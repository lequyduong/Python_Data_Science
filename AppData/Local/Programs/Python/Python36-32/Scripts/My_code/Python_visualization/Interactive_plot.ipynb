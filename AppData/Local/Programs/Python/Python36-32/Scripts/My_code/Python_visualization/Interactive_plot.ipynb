{
 "cells": [
  {
   "cell_type": "code",
   "execution_count": 7,
   "metadata": {},
   "outputs": [
    {
     "data": {
      "text/plain": [
       "5"
      ]
     },
     "execution_count": 7,
     "metadata": {},
     "output_type": "execute_result"
    },
    {
     "data": {
      "image/png": "[encoded data removed]",
      "text/plain": [
       "<matplotlib.figure.Figure at 0x94815f0>"
      ]
     },
     "metadata": {},
     "output_type": "display_data"
    }
   ],
   "source": [
    "# Use the following data for this assignment:\n",
    "\n",
    "import pandas as pd\n",
    "import numpy as np\n",
    "\n",
    "#np.random.seed(12345)\n",
    "\n",
    "df = pd.DataFrame([np.random.normal(32000,200000,3650), \n",
    "                   np.random.normal(43000,100000,3650), \n",
    "                   np.random.normal(43500,140000,3650), \n",
    "                   np.random.normal(48000,70000,3650)], \n",
    "                  index=[1992,1993,1994,1995])\n",
    "\n",
    "import matplotlib.pyplot as plt\n",
    "import numpy as np\n",
    "import matplotlib.colors as mcol\n",
    "import matplotlib.cm as cm\n",
    "\n",
    "#import numpy\n",
    "from matplotlib.pylab import *\n",
    "import matplotlib.animation as animation\n",
    "\n",
    "\n",
    "#def color_gradient ( val, beg_rgb, end_rgb, val_min = 0, val_max = 1):\n",
    "#    val_scale = (1.0 * val - val_min) / (val_max - val_min)\n",
    "#    return ( beg_rgb[0] + val_scale * (end_rgb[0] - beg_rgb[0]),\n",
    "#             beg_rgb[1] + val_scale * (end_rgb[1] - beg_rgb[1]),\n",
    "#             beg_rgb[2] + val_scale * (end_rgb[2] - beg_rgb[2]))\n",
    "\n",
    "rows = df.columns\n",
    "fig, ax = plt.subplots() #plt.figure()\n",
    "\n",
    "#\n",
    "x_pos = df.index\n",
    "y_pos = df.mean(axis = 1)#df['std']\n",
    "\n",
    "error = df.std(axis = 1)*1.96/sqrt(3650)#df['Mean']\n",
    "\n",
    "\n",
    "# Make a user-defined colormap.\n",
    "cm1 = mcol.LinearSegmentedColormap.from_list(\"MyCmapName\",[\"r\",\"b\"])\n",
    "\n",
    "# Make a normalizer that will map the time values from\n",
    "cnorm = mcol.Normalize(vmin=error.min(),vmax=error.max())\n",
    "\n",
    "# Turn these into an object that can be used to map time values to colors and\n",
    "# can be passed to plt.colorbar().\n",
    "cpick = cm.ScalarMappable(norm=cnorm,cmap=cm1)\n",
    "cpick.set_array([])\n",
    "\n",
    "#plot = plt.scatter(x_pos, y_pos, c = error, cmap = cm1, vmin = error.min(), vmax=error.max())\n",
    "plt.scatter(x_pos, y_pos, color=cpick.to_rgba(error))\n",
    "#plot = plt.scatter(x_pos, y_pos)\n",
    "plt.clf()\n",
    "#plt.colorbar(plot)\n",
    "plt.colorbar(cpick,label=\"Color bar based on error\")\n",
    "plt.gca().set_title('Assignment 3: error 95% confidence interval')\n",
    "#fig, ax = plt.subplots()\n",
    "#fig = plt.figure(figsize=(8,8))\n",
    "x = plt.gca().xaxis\n",
    "# Copied\n",
    "#ax.set_title('Gaussian noise with vertical colorbar')\n",
    "plt.bar(x_pos, y_pos, yerr=error, color =cpick.to_rgba(error), width=1, align='center', alpha=1.0, ecolor='black', capsize=10)\n",
    "for item in x.get_ticklabels():\n",
    "        item.set_rotation(45)\n",
    "#cbar.ax.set_xticklabels(['Low', 'Medium', 'High'])  # horizontal colorbar\n",
    "\n",
    "def onclick(event):\n",
    "    #plt.cla()\n",
    "    #plt.plot(data)\n",
    "    cnorm = mcol.Normalize(vmin=y_pos.min(),vmax=y_pos.max())\n",
    "    # Turn these into an object that can be used to map time values to colors and\n",
    "    # can be passed to plt.colorbar().\n",
    "    cpick = cm.ScalarMappable(norm=cnorm,cmap=cm1)\n",
    "    cpick.set_array([])\n",
    "    plt.scatter(x_pos, y_pos, color=cpick.to_rgba(y_pos))\n",
    "    #plot = plt.scatter(x_pos, y_pos)\n",
    "    plt.clf()\n",
    "    #plt.colorbar(plot)\n",
    "    plt.colorbar(cpick,label=\"Color bar based on y axis\")\n",
    "    plt.bar(x_pos, y_pos, yerr=error, color =cpick.to_rgba(y_pos), width=1, align='center', alpha=1.0, ecolor='black', capsize=10)\n",
    "    plt.gca().set_title('Recolor based on y-axis band maximum {}'.format(event.ydata))\n",
    "    plt.ylim([0,event.ydata+20000])\n",
    "    for item in x.get_ticklabels():\n",
    "        item.set_rotation(45)\n",
    "\n",
    "\n",
    "# tell mpl_connect we want to pass a 'button_press_event' into onclick when the event is detected\n",
    "plt.gcf().canvas.mpl_connect('button_press_event', onclick)\n"
   ]
  }
 ],
 "metadata": {
  "kernelspec": {
   "display_name": "Python 3",
   "language": "python",
   "name": "python3"
  },
  "language_info": {
   "codemirror_mode": {
    "name": "ipython",
    "version": 3
   },
   "file_extension": ".py",
   "mimetype": "text/x-python",
   "name": "python",
   "nbconvert_exporter": "python",
   "pygments_lexer": "ipython3",
   "version": "3.6.3"
  }
 },
 "nbformat": 4,
 "nbformat_minor": 2
}
